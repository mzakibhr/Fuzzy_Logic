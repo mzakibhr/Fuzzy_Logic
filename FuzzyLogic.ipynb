{
  "nbformat": 4,
  "nbformat_minor": 0,
  "metadata": {
    "colab": {
      "name": "Untitled2.ipynb",
      "provenance": [],
      "collapsed_sections": [],
      "include_colab_link": true
    },
    "kernelspec": {
      "name": "python3",
      "display_name": "Python 3"
    },
    "language_info": {
      "name": "python"
    }
  },
  "cells": [
    {
      "cell_type": "markdown",
      "metadata": {
        "id": "view-in-github",
        "colab_type": "text"
      },
      "source": [
        "<a href=\"https://colab.research.google.com/github/mzakibhr/Fuzzy_Logic/blob/main/FuzzyLogic.ipynb\" target=\"_parent\"><img src=\"https://colab.research.google.com/assets/colab-badge.svg\" alt=\"Open In Colab\"/></a>"
      ]
    },
    {
      "cell_type": "code",
      "metadata": {
        "id": "jqVmOSdsbziA"
      },
      "source": [
        "import pandas as pd"
      ],
      "execution_count": null,
      "outputs": []
    },
    {
      "cell_type": "code",
      "metadata": {
        "id": "US03s1tscPMd"
      },
      "source": [
        "df_restoran = pd.read_excel('restoran.xlsx')"
      ],
      "execution_count": null,
      "outputs": []
    },
    {
      "cell_type": "code",
      "metadata": {
        "id": "b2LdgcWMjqgM"
      },
      "source": [
        "# Pelayanan (1-100)\n",
        "# Pelayanan Kecil (Trapesium), Batasbawah = 20, Batasatas = 50\n",
        "# Pelayan Sedang (Segitiga), Batasbawah = 40, Batastengah = 65, Batasatas = 90\n",
        "# Pelayanan Besar (Trapesium), Batasbawah = 80, Batasatas = 100\n",
        "def pelayanan(x):\n",
        "    hasilPelayanan = []\n",
        "    if ((x >= 0) and (x <= 50)):\n",
        "        hasilPelayanan.append(pelayanan_small(x))\n",
        "    if ((x >= 40) and (x <= 90)):\n",
        "        hasilPelayanan.append(pelayanan_medium(x))\n",
        "    if ((x >= 80) and (x <= 100)):\n",
        "        hasilPelayanan.append(pelayanan_high(x))\n",
        "    return hasilPelayanan"
      ],
      "execution_count": null,
      "outputs": []
    },
    {
      "cell_type": "code",
      "metadata": {
        "id": "0MuQg_JWeNu0"
      },
      "source": [
        "def pelayanan_small(x):\n",
        "    if (x <= 20):\n",
        "        return 'low', 1\n",
        "    elif (x <= 50  and x > 20):\n",
        "        count = (50 - x) / (50 - 20)\n",
        "        return 'low', count"
      ],
      "execution_count": null,
      "outputs": []
    },
    {
      "cell_type": "code",
      "metadata": {
        "id": "y1aTLMq6ejyl"
      },
      "source": [
        "def pelayanan_medium(x):\n",
        "    if (x >= 40 and x <= 65):\n",
        "        count = (x - 40) / (65 - 40)\n",
        "        return 'medium', count\n",
        "    elif (x > 65 and x <= 90):\n",
        "        count = (90 - x) / (90 - 65)\n",
        "        return 'medium', count"
      ],
      "execution_count": null,
      "outputs": []
    },
    {
      "cell_type": "code",
      "metadata": {
        "id": "oVWDHc-nemWf"
      },
      "source": [
        "def pelayanan_high(x):\n",
        "    if (x >= 80 and x <= 100):\n",
        "        count = (x - 80) / (100 - 80)\n",
        "        return 'high', count\n",
        "    elif (x > 100):\n",
        "        return 'high', 1"
      ],
      "execution_count": null,
      "outputs": []
    },
    {
      "cell_type": "code",
      "metadata": {
        "id": "apNfEeLzeoos"
      },
      "source": [
        "# Makanan (1-10)\n",
        "# Makanan Kecil (Trapesium), Batasbawah = 3, Batasatas = 5\n",
        "# Makanan Sedang (Segitiga), Batasbawah = 4, Batassedang = 6.5, Batasatas = 9\n",
        "# Makanan Besar (Trapesium), Batasbawah = 8, Batasatas = 10\n",
        "\n",
        "def makanan(x):\n",
        "    hasilMakanan = []\n",
        "    if ((x>=0) and (x<=5)) :\n",
        "        hasilMakanan.append(makanan_low(x))\n",
        "    if ((x>=4) and (x<=9)) :\n",
        "        hasilMakanan.append(makanan_medium(x))\n",
        "    if (x>=8) :\n",
        "        hasilMakanan.append(makanan_high(x))\n",
        "    return hasilMakanan"
      ],
      "execution_count": null,
      "outputs": []
    },
    {
      "cell_type": "code",
      "metadata": {
        "id": "K-deHpHOrWXO"
      },
      "source": [
        "def makanan_low(x):\n",
        "    if (x <= 3.0):\n",
        "        return 'low', 1\n",
        "    elif (x <= 5.0 and x > 3.0):\n",
        "        count = (5.0 - x) / (5.0 - 3.0)\n",
        "        return 'low', count"
      ],
      "execution_count": null,
      "outputs": []
    },
    {
      "cell_type": "code",
      "metadata": {
        "id": "2koRSPRfeuEM"
      },
      "source": [
        "def makanan_medium(x):\n",
        "    if (x <= 6.5 and x >= 4.0):\n",
        "        count = (x - 4.0) / (6.5 - 4.0)\n",
        "        return 'medium', count\n",
        "    elif (x <= 9.0 and x > 6.5):\n",
        "        count = (9.0 - x) / (9.0 - 6.5)\n",
        "        return 'medium', count"
      ],
      "execution_count": null,
      "outputs": []
    },
    {
      "cell_type": "code",
      "metadata": {
        "id": "yHf9PBtje4E4"
      },
      "source": [
        "def makanan_high(x):\n",
        "    if (x < 10.0 and x >= 8.0):\n",
        "        count = (x - 8.0) / (10 - 8.0)\n",
        "        return 'high', count\n",
        "    elif (x >= 10):\n",
        "        return 'high', 1"
      ],
      "execution_count": null,
      "outputs": []
    },
    {
      "cell_type": "code",
      "metadata": {
        "id": "cQziHkkAe6ZP"
      },
      "source": [
        "# RULE\n",
        "#  pel\\mak           low\t medium\t   high\t\n",
        "#  low\t\t\t\t        N\t\t   L\t\t    M\t\t \n",
        "#  medium\t\t\t        L\t     M\t\t    H\t\t \n",
        "#  high\t\t\t\t        L\t\t   M\t\t    H\t\n",
        "def inference(pelayanan, makanan):\n",
        "    if (pelayanan=='low' and makanan=='low') :\n",
        "        return 'N'\n",
        "    if (pelayanan=='low' and makanan=='medium') :\n",
        "        return 'L'\n",
        "    if (pelayanan=='low' and makanan=='high') :\n",
        "        return 'M'\n",
        "    if (pelayanan=='medium' and makanan=='low') :\n",
        "        return 'L'\n",
        "    if (pelayanan=='medium' and makanan=='medium') :\n",
        "        return 'M'\n",
        "    if (pelayanan=='medium' and makanan=='high') :\n",
        "        return 'H'\n",
        "    if (pelayanan=='high' and makanan=='low') :\n",
        "        return 'L'\n",
        "    if (pelayanan=='high' and makanan=='medium') :\n",
        "        return 'M'\n",
        "    if (pelayanan=='high' and makanan=='high') :\n",
        "        return 'H'"
      ],
      "execution_count": null,
      "outputs": []
    },
    {
      "cell_type": "code",
      "metadata": {
        "id": "ibF55asYvAhy"
      },
      "source": [
        "def nilaiInference(Pelayanan, Makanan):\n",
        "    maksN = 0.0\n",
        "    maksL = 0.0\n",
        "    maksM = 0.0\n",
        "    maksH = 0.0\n",
        "    for i in pelayanan(Pelayanan):\n",
        "        for j in makanan(Makanan):\n",
        "            if (inference(i[0],j[0])=='N') :\n",
        "                if (maksN < min(i[1],j[1])) :\n",
        "                    maksN = min(i[1],j[1])\n",
        "            if (inference(i[0],j[0])=='L') :\n",
        "                if (maksL < min(i[1],j[1])) :\n",
        "                    maksL = min(i[1],j[1])\n",
        "            if (inference(i[0],j[0])=='M') :\n",
        "                if (maksM < min(i[1],j[1])) :\n",
        "                    maksM = min(i[1],j[1])\n",
        "            if (inference(i[0],j[0])=='H') :\n",
        "                if (maksH < min(i[1],j[1])) :\n",
        "                    maksH = min(i[1],j[1])\n",
        "    return ('N', maksN) , ('L', maksL), ('M', maksM) , ('H', maksH)"
      ],
      "execution_count": null,
      "outputs": []
    },
    {
      "cell_type": "code",
      "metadata": {
        "id": "y-QaE_3Ue9ce"
      },
      "source": [
        "# Batas No = 20\n",
        "# Batas Low = 35\n",
        "# Batas Medium = 70\n",
        "# Batas High = 100\n",
        "def defuzzyfication(a, b, c, d):\n",
        "    count = (a*20) + (b*35) + (c*70) + (d*100) / (a+b+c+d)\n",
        "    return count"
      ],
      "execution_count": null,
      "outputs": []
    },
    {
      "cell_type": "code",
      "metadata": {
        "id": "Y2OmKr32e_mU"
      },
      "source": [
        "hasil = []\n",
        "for i in df_restoran.iterrows():\n",
        "    NilaiPelayanan = i[1].loc['pelayanan']\n",
        "    NilaiMakanan = i[1].loc['makanan']\n",
        "    arr_deffuzy = nilaiInference(NilaiPelayanan, NilaiMakanan)\n",
        "    hasil.append(defuzzyfication(arr_deffuzy[0][1],arr_deffuzy[1][1],arr_deffuzy[2][1],arr_deffuzy[3][1]))\n"
      ],
      "execution_count": null,
      "outputs": []
    },
    {
      "cell_type": "code",
      "metadata": {
        "id": "37RT2CsWhSkV",
        "colab": {
          "base_uri": "https://localhost:8080/"
        },
        "outputId": "1f981762-85fc-4820-f9a7-0d8bfd46edbd"
      },
      "source": [
        "best = sorted(zip(df_restoran.id,hasil), key=lambda x:x[1], reverse=True)\n",
        "print(best)"
      ],
      "execution_count": null,
      "outputs": [
        {
          "output_type": "stream",
          "text": [
            "[(6, 100.0), (22, 100.0), (24, 100.0), (25, 100.0), (31, 100.0), (42, 100.0), (54, 100.0), (69, 100.0), (79, 100.0), (20, 93.85875706214689), (51, 87.42528735632185), (77, 70.0), (81, 70.0), (73, 65.33333333333333), (98, 53.66666666666667), (1, 50.4), (8, 46.666666666666664), (18, 35.0), (66, 35.0), (88, 35.0), (39, 33.6), (63, 33.6), (10, 32.666666666666664), (44, 32.2), (3, 31.5), (91, 31.5), (60, 30.8), (75, 29.4), (7, 28.0), (15, 28.0), (17, 28.0), (27, 28.0), (30, 28.0), (40, 28.0), (53, 28.0), (55, 28.0), (68, 28.0), (70, 28.0), (72, 28.0), (83, 28.0), (95, 28.0), (99, 28.0), (80, 25.666666666666664), (52, 24.5), (16, 22.400000000000002), (62, 22.166666666666664), (36, 21.0), (26, 20.0), (35, 20.0), (38, 20.0), (49, 20.0), (78, 20.0), (84, 20.0), (90, 20.0), (94, 20.0), (76, 19.833333333333332), (2, 19.6), (47, 19.333333333333332), (34, 17.5), (48, 17.5), (74, 17.5), (87, 17.5), (57, 17.333333333333336), (4, 16.8), (97, 16.666666666666668), (50, 14.933333333333334), (11, 14.0), (12, 14.0), (13, 14.0), (14, 14.0), (29, 14.0), (33, 14.0), (45, 14.0), (65, 14.0), (86, 14.0), (100, 14.0), (96, 13.333333333333332), (56, 13.266666666666666), (58, 12.666666666666666), (21, 12.533333333333335), (89, 12.533333333333335), (93, 11.666666666666666), (41, 11.333333333333332), (43, 10.666666666666666), (9, 10.333333333333332), (5, 10.0), (23, 10.0), (37, 10.0), (59, 10.0), (64, 10.0), (67, 10.0), (82, 10.0), (85, 10.0), (92, 9.8), (28, 9.600000000000001), (19, 8.133333333333333), (32, 8.133333333333333), (61, 8.133333333333333), (46, 8.0), (71, 7.333333333333333)]\n"
          ],
          "name": "stdout"
        }
      ]
    },
    {
      "cell_type": "code",
      "metadata": {
        "id": "kG3TuhYlfBb5",
        "colab": {
          "base_uri": "https://localhost:8080/"
        },
        "outputId": "b40a8107-1879-4bd7-8fea-81ceda0ec585"
      },
      "source": [
        "bestRestoran = []\n",
        "for i in range(10):\n",
        "     bestRestoran.append(best[i])\n",
        "print(bestRestoran)\n",
        "\n",
        "pd.DataFrame(bestRestoran).to_excel('peringkat.xls', header=False, index=False)"
      ],
      "execution_count": null,
      "outputs": [
        {
          "output_type": "stream",
          "text": [
            "[(6, 100.0), (22, 100.0), (24, 100.0), (25, 100.0), (31, 100.0), (42, 100.0), (54, 100.0), (69, 100.0), (79, 100.0), (20, 93.85875706214689)]\n"
          ],
          "name": "stdout"
        }
      ]
    }
  ]
}